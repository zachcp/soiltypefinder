{
 "metadata": {
  "name": "",
  "signature": "sha256:e3fd3af8334ff4bb1a558178aa5f2a80d0b4bd3c6218cac15d48f8441fb3f47c"
 },
 "nbformat": 3,
 "nbformat_minor": 0,
 "worksheets": [
  {
   "cells": [
    {
     "cell_type": "markdown",
     "metadata": {},
     "source": [
      "## Load GeoJson into a Pandas Data Frame for Some Quick looking/Stats"
     ]
    },
    {
     "cell_type": "code",
     "collapsed": false,
     "input": [
      "import json\n",
      "import glob\n",
      "import itertools\n",
      "import ast\n",
      "import pandas as pd\n",
      "\n",
      "def getfeature(f):\n",
      "    \"\"\" \n",
      "    Pull out the relevant pieces of a geojson feature\n",
      "    \"\"\"\n",
      "    return [f['properties']['SOIL_ORDER'], \n",
      "            f[\"properties\"]['SUBORDER'],\n",
      "            f[\"properties\"]['GRIDCODE'],\n",
      "            f[\"geometry\"][\"type\"],\n",
      "            str(f[\"geometry\"][\"coordinates\"])]\n",
      "\n",
      "def getfeatures(filename):\n",
      "    \"\"\"\n",
      "    extract the feature info froma GeoJSON file\n",
      "    \"\"\"\n",
      "    #print filename\n",
      "    geojson = json.loads(open(filename,\"r\").read())\n",
      "    #print geojson.keys()\n",
      "    features = map(getfeature, geojson['features'])\n",
      "    return features\n",
      "\n",
      "def get_max_min(x):\n",
      "    \"\"\" Convert the String representation of GeoJSON polygons to a Python List\n",
      "    Then get the lat/lon values and calcualte min/max\n",
      "    \n",
      "    \"\"\"\n",
      "    ast_list = ast.literal_eval(x)\n",
      "    point_list = list( itertools.chain(*ast_list))\n",
      "    lons = [f for [f,s] in point_list]\n",
      "    lats = [s for [f,s] in point_list]\n",
      "    return [max(lats), min(lats), max(lons), min(lons)]\n",
      "\n",
      "\n",
      "def get_JSON_stats(directory):\n",
      "    jsonfiles = glob.glob(\"{}/*.json\".format(directory))\n",
      "    features = map(getfeatures, jsonfiles[:2])\n",
      "    flatfeaturelist = list( itertools.chain(*features))\n",
      "    df = pd.DataFrame(flatfeaturelist, columns=[\"Soil\", \"Suborder\",\"GridID\",\"Shape\",\"AST_of_Points\"])\n",
      "    maxmin= df.AST_of_Points.apply(get_max_min)\n",
      "    df['Max_Lat'] = [x[0] for x in maxmin]\n",
      "    df['Min_Lat'] = [x[1] for x in maxmin]\n",
      "    df['Max_Lon'] = [x[2] for x in maxmin]\n",
      "    df['Min_Lon'] = [x[3] for x in maxmin]\n",
      "    return df"
     ],
     "language": "python",
     "metadata": {},
     "outputs": [],
     "prompt_number": 16
    },
    {
     "cell_type": "markdown",
     "metadata": {},
     "source": [
      "#there are 70,782 polygons in all of these files"
     ]
    },
    {
     "cell_type": "code",
     "collapsed": false,
     "input": [
      "df = get_JSON_stats(\"Data/\")"
     ],
     "language": "python",
     "metadata": {},
     "outputs": [],
     "prompt_number": 20
    },
    {
     "cell_type": "code",
     "collapsed": false,
     "input": [
      "#df[:10].AST_of_Points.apply(get_max_min)\n",
      "df.to_csv(\"Data/output.txt\",sep=\"\\t\", index=False)"
     ],
     "language": "python",
     "metadata": {},
     "outputs": [],
     "prompt_number": 24
    },
    {
     "cell_type": "code",
     "collapsed": false,
     "input": [
      "df.columns"
     ],
     "language": "python",
     "metadata": {},
     "outputs": [
      {
       "metadata": {},
       "output_type": "pyout",
       "prompt_number": 103,
       "text": [
        "Index([u'Soil', u'Suborder', u'GridID', u'Shape', u'AST_of_Points', u'Max_Lat', u'Min_Lat', u'Max_Lon', u'Min_Lon'], dtype='object')"
       ]
      }
     ],
     "prompt_number": 103
    },
    {
     "cell_type": "code",
     "collapsed": false,
     "input": [],
     "language": "python",
     "metadata": {},
     "outputs": []
    }
   ],
   "metadata": {}
  }
 ]
}